{
 "cells": [
  {
   "cell_type": "code",
   "execution_count": null,
   "id": "4f06d0da-e713-4aaa-9842-0a54a44ec97a",
   "metadata": {},
   "outputs": [],
   "source": [
    "ques1\n",
    "(i) a = 'simran'\n",
    "(ii) l = [1,2,3,4,5]\n",
    "(iii) f = 25.55\n",
    "(iv) t = (1,2,'sim',5.5)"
   ]
  },
  {
   "cell_type": "code",
   "execution_count": null,
   "id": "deae7b65-cff1-42ec-a486-15342ef5b74e",
   "metadata": {},
   "outputs": [],
   "source": [
    "ques2\n",
    "(i) str\n",
    "(ii) str\n",
    "(iii) list\n",
    "(iv) int"
   ]
  },
  {
   "cell_type": "code",
   "execution_count": null,
   "id": "6ef629e5-dde4-4eb1-9641-bb29090a03c6",
   "metadata": {},
   "outputs": [],
   "source": [
    "ques3\n",
    "(i) this operator is use to divide two int values and returns it quotient with decimals.\n",
    "for example 10/2 = 5.0\n",
    "(ii)this operator is use to divide two int values and returns it remainder.\n",
    "for example 10%2 = 0\n",
    "(iii)this operator is use to divide two int values and returns it quotient without decimals.\n",
    "for example 10//2 = 5\n",
    "(iv) this operator is used to return exponent of given int value.\n",
    "for example 2**3 = 8"
   ]
  },
  {
   "cell_type": "code",
   "execution_count": 3,
   "id": "00c7197f-7ae9-4d11-b0cb-8f1d5e0f9b52",
   "metadata": {},
   "outputs": [
    {
     "name": "stdout",
     "output_type": "stream",
     "text": [
      "1\n",
      "2\n",
      "3\n",
      "4\n",
      "5\n",
      "simran\n",
      "24.55\n",
      "(5+5j)\n",
      "pwskills\n"
     ]
    }
   ],
   "source": [
    "ques4\n",
    "l = [1,2,3,4,5,'simran',true,24.55,5+5j,'pwskills']\n",
    "for i in l:\n",
    "    print(i)"
   ]
  },
  {
   "cell_type": "code",
   "execution_count": 5,
   "id": "1dd8a358-39a8-429e-b53d-c24d9c081507",
   "metadata": {},
   "outputs": [],
   "source": [
    "ques5\n",
    "A=10\n",
    "B=2\n",
    "while A % B :\n",
    "    print(\"yes it is divisible by B\")"
   ]
  },
  {
   "cell_type": "code",
   "execution_count": 8,
   "id": "66036941-d829-4c89-95d1-f28e86e80c0e",
   "metadata": {},
   "outputs": [
    {
     "name": "stdout",
     "output_type": "stream",
     "text": [
      "yes it is divisible by 3\n"
     ]
    }
   ],
   "source": [
    "ques6\n",
    "l=25\n",
    "if l % 3 :\n",
    "    print(\"yes it is divisible by 3\")\n",
    "else :\n",
    "    print(\"no it is not divisible by 3\")"
   ]
  },
  {
   "cell_type": "code",
   "execution_count": null,
   "id": "05f1f059-e142-4ecc-abcd-b34c7e486c73",
   "metadata": {},
   "outputs": [],
   "source": [
    "ques7\n",
    "mutable data type = it is a data type which states that data can be change and mo"
   ]
  }
 ],
 "metadata": {
  "kernelspec": {
   "display_name": "Python 3 (ipykernel)",
   "language": "python",
   "name": "python3"
  },
  "language_info": {
   "codemirror_mode": {
    "name": "ipython",
    "version": 3
   },
   "file_extension": ".py",
   "mimetype": "text/x-python",
   "name": "python",
   "nbconvert_exporter": "python",
   "pygments_lexer": "ipython3",
   "version": "3.10.8"
  }
 },
 "nbformat": 4,
 "nbformat_minor": 5
}
